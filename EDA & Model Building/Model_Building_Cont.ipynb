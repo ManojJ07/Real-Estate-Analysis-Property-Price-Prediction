{
 "cells": [
  {
   "cell_type": "markdown",
   "id": "a7b2d861",
   "metadata": {
    "id": "a7b2d861"
   },
   "source": [
    "Linear Regression"
   ]
  },
  {
   "cell_type": "code",
   "execution_count": 1,
   "id": "c1a0c8a4",
   "metadata": {
    "colab": {
     "base_uri": "https://localhost:8080/"
    },
    "id": "c1a0c8a4",
    "outputId": "8f49c1ed-be27-4618-b84a-ca1ad9cc4799"
   },
   "outputs": [
    {
     "name": "stdout",
     "output_type": "stream",
     "text": [
      "R^2:  0.5251005407659592\n"
     ]
    }
   ],
   "source": [
    "import numpy as np\n",
    "import pandas as pd\n",
    "from sklearn.preprocessing import LabelEncoder\n",
    "from sklearn.linear_model import LinearRegression\n",
    "from sklearn.model_selection import train_test_split\n",
    "\n",
    "# load the data\n",
    "df = pd.read_csv(\"Property.csv\")\n",
    "\n",
    "for column in df.columns:\n",
    "    le = LabelEncoder()\n",
    "    df[column] = le.fit_transform(df[column])\n",
    "\n",
    "# split the data into training and testing sets\n",
    "X = df.drop(\"Price\", axis=1)\n",
    "y = df[\"Price\"]\n",
    "X_train, X_test, y_train, y_test = train_test_split(X, y, test_size=0.2, random_state=0)\n",
    "\n",
    "# fit the linear regression model\n",
    "reg = LinearRegression()\n",
    "reg.fit(X_train, y_train)\n",
    "\n",
    "# make predictions on the test set\n",
    "y_pred = reg.predict(X_test)\n",
    "\n",
    "# evaluate the performance of the model\n",
    "score = reg.score(X_test, y_test)\n",
    "print(\"R^2: \", score)"
   ]
  },
  {
   "cell_type": "markdown",
   "id": "76234cd0",
   "metadata": {
    "id": "76234cd0"
   },
   "source": [
    "Random Forest Regression"
   ]
  },
  {
   "cell_type": "code",
   "execution_count": 2,
   "id": "b8fdb80b",
   "metadata": {
    "colab": {
     "base_uri": "https://localhost:8080/"
    },
    "id": "b8fdb80b",
    "outputId": "1bfa9113-7f01-4afb-ddd4-58bef2ab7cbc"
   },
   "outputs": [
    {
     "name": "stdout",
     "output_type": "stream",
     "text": [
      "R^2:  0.8388410162720608\n"
     ]
    }
   ],
   "source": [
    "from sklearn.ensemble import RandomForestRegressor\n",
    "\n",
    "# fit the random forest regressor\n",
    "regr = RandomForestRegressor(n_estimators=100, random_state=0)\n",
    "regr.fit(X_train, y_train)\n",
    "\n",
    "# make predictions on the test set\n",
    "y_pred = regr.predict(X_test)\n",
    "\n",
    "# evaluate the performance of the model\n",
    "score = regr.score(X_test, y_test)\n",
    "print(\"R^2: \", score)"
   ]
  },
  {
   "cell_type": "markdown",
   "id": "f4fcc635",
   "metadata": {
    "id": "f4fcc635"
   },
   "source": [
    "Gradient Boosting"
   ]
  },
  {
   "cell_type": "code",
   "execution_count": 9,
   "id": "de9d25ee",
   "metadata": {
    "colab": {
     "base_uri": "https://localhost:8080/"
    },
    "id": "de9d25ee",
    "outputId": "39415968-c2a1-496b-8ed9-1ccf178676ab"
   },
   "outputs": [
    {
     "name": "stdout",
     "output_type": "stream",
     "text": [
      "MAE: 19.180621894244815\n"
     ]
    }
   ],
   "source": [
    "from sklearn.ensemble import GradientBoostingRegressor\n",
    "\n",
    "# Create Gradient Boosting Regressor\n",
    "gb = GradientBoostingRegressor()\n",
    "\n",
    "# Train the model\n",
    "gb.fit(X, y)\n",
    "\n",
    "# Predict the prices\n",
    "predictions = gb.predict(X)\n",
    "\n",
    "# Evaluation metrics\n",
    "from sklearn.metrics import mean_absolute_error\n",
    "print(\"MAE:\", mean_absolute_error(y, predictions))"
   ]
  },
  {
   "cell_type": "markdown",
   "id": "7ef46c0b",
   "metadata": {
    "id": "7ef46c0b"
   },
   "source": [
    "Support Vector Regression"
   ]
  },
  {
   "cell_type": "code",
   "execution_count": 10,
   "id": "74b764a8",
   "metadata": {
    "colab": {
     "base_uri": "https://localhost:8080/"
    },
    "id": "74b764a8",
    "outputId": "cc8be66a-042c-4c3b-f335-1320a711c43d"
   },
   "outputs": [
    {
     "name": "stdout",
     "output_type": "stream",
     "text": [
      "MAE: 40.32178607995355\n"
     ]
    }
   ],
   "source": [
    "from sklearn.svm import SVR\n",
    "\n",
    "# Create SVR\n",
    "svr = SVR()\n",
    "\n",
    "# Train the model\n",
    "svr.fit(X, y)\n",
    "\n",
    "# Predict the prices\n",
    "predictions = svr.predict(X)\n",
    "\n",
    "# Evaluation metrics\n",
    "from sklearn.metrics import mean_absolute_error\n",
    "print(\"MAE:\", mean_absolute_error(y, predictions))"
   ]
  },
  {
   "cell_type": "markdown",
   "id": "35464f9d",
   "metadata": {
    "id": "35464f9d"
   },
   "source": [
    "Artificial Nueral Network"
   ]
  },
  {
   "cell_type": "code",
   "execution_count": 11,
   "id": "ab7abdbf",
   "metadata": {
    "colab": {
     "base_uri": "https://localhost:8080/"
    },
    "id": "ab7abdbf",
    "outputId": "773f7d4a-5e5f-45d9-95cd-aef7c0dcbd98"
   },
   "outputs": [
    {
     "name": "stdout",
     "output_type": "stream",
     "text": [
      "Epoch 1/100\n",
      "253/253 [==============================] - 1s 2ms/step - loss: 75274.8047\n",
      "Epoch 2/100\n",
      "253/253 [==============================] - 0s 2ms/step - loss: 61311.9805\n",
      "Epoch 3/100\n",
      "253/253 [==============================] - 0s 2ms/step - loss: 39326.4180\n",
      "Epoch 4/100\n",
      "253/253 [==============================] - 0s 2ms/step - loss: 21614.6543\n",
      "Epoch 5/100\n",
      "253/253 [==============================] - 0s 2ms/step - loss: 13156.9844\n",
      "Epoch 6/100\n",
      "253/253 [==============================] - 0s 2ms/step - loss: 10622.6162\n",
      "Epoch 7/100\n",
      "253/253 [==============================] - 0s 2ms/step - loss: 9931.2236\n",
      "Epoch 8/100\n",
      "253/253 [==============================] - 1s 2ms/step - loss: 9531.8877\n",
      "Epoch 9/100\n",
      "253/253 [==============================] - 2s 8ms/step - loss: 9168.9697\n",
      "Epoch 10/100\n",
      "253/253 [==============================] - 2s 7ms/step - loss: 8823.6885\n",
      "Epoch 11/100\n",
      "253/253 [==============================] - 1s 5ms/step - loss: 8496.1211\n",
      "Epoch 12/100\n",
      "253/253 [==============================] - 1s 5ms/step - loss: 8177.4434\n",
      "Epoch 13/100\n",
      "253/253 [==============================] - 1s 4ms/step - loss: 7862.6401\n",
      "Epoch 14/100\n",
      "253/253 [==============================] - 1s 3ms/step - loss: 7572.9551\n",
      "Epoch 15/100\n",
      "253/253 [==============================] - 1s 5ms/step - loss: 7314.7139\n",
      "Epoch 16/100\n",
      "253/253 [==============================] - 1s 5ms/step - loss: 7090.1880\n",
      "Epoch 17/100\n",
      "253/253 [==============================] - 0s 2ms/step - loss: 6904.4893\n",
      "Epoch 18/100\n",
      "253/253 [==============================] - 0s 2ms/step - loss: 6744.1494\n",
      "Epoch 19/100\n",
      "253/253 [==============================] - 0s 2ms/step - loss: 6608.0864\n",
      "Epoch 20/100\n",
      "253/253 [==============================] - 0s 2ms/step - loss: 6495.2896\n",
      "Epoch 21/100\n",
      "253/253 [==============================] - 0s 2ms/step - loss: 6398.8188\n",
      "Epoch 22/100\n",
      "253/253 [==============================] - 1s 4ms/step - loss: 6314.9805\n",
      "Epoch 23/100\n",
      "253/253 [==============================] - 1s 4ms/step - loss: 6247.6343\n",
      "Epoch 24/100\n",
      "253/253 [==============================] - 1s 3ms/step - loss: 6184.0352\n",
      "Epoch 25/100\n",
      "253/253 [==============================] - 1s 3ms/step - loss: 6133.9482\n",
      "Epoch 26/100\n",
      "253/253 [==============================] - 1s 3ms/step - loss: 6088.2583\n",
      "Epoch 27/100\n",
      "253/253 [==============================] - 1s 5ms/step - loss: 6050.4209\n",
      "Epoch 28/100\n",
      "253/253 [==============================] - 1s 3ms/step - loss: 6011.7397\n",
      "Epoch 29/100\n",
      "253/253 [==============================] - 1s 4ms/step - loss: 5980.3179\n",
      "Epoch 30/100\n",
      "253/253 [==============================] - 1s 3ms/step - loss: 5957.7627\n",
      "Epoch 31/100\n",
      "253/253 [==============================] - 1s 3ms/step - loss: 5927.9019\n",
      "Epoch 32/100\n",
      "253/253 [==============================] - 0s 2ms/step - loss: 5910.5918\n",
      "Epoch 33/100\n",
      "253/253 [==============================] - 0s 2ms/step - loss: 5884.8682\n",
      "Epoch 34/100\n",
      "253/253 [==============================] - 0s 2ms/step - loss: 5863.6606\n",
      "Epoch 35/100\n",
      "253/253 [==============================] - 0s 2ms/step - loss: 5846.8594\n",
      "Epoch 36/100\n",
      "253/253 [==============================] - 0s 2ms/step - loss: 5824.1797\n",
      "Epoch 37/100\n",
      "253/253 [==============================] - 0s 2ms/step - loss: 5814.1641\n",
      "Epoch 38/100\n",
      "253/253 [==============================] - 0s 2ms/step - loss: 5797.1997\n",
      "Epoch 39/100\n",
      "253/253 [==============================] - 0s 2ms/step - loss: 5782.2197\n",
      "Epoch 40/100\n",
      "253/253 [==============================] - 0s 2ms/step - loss: 5773.9907\n",
      "Epoch 41/100\n",
      "253/253 [==============================] - 0s 2ms/step - loss: 5756.4604\n",
      "Epoch 42/100\n",
      "253/253 [==============================] - 0s 2ms/step - loss: 5747.4604\n",
      "Epoch 43/100\n",
      "253/253 [==============================] - 0s 2ms/step - loss: 5736.0205\n",
      "Epoch 44/100\n",
      "253/253 [==============================] - 0s 2ms/step - loss: 5725.9844\n",
      "Epoch 45/100\n",
      "253/253 [==============================] - 0s 2ms/step - loss: 5711.8687\n",
      "Epoch 46/100\n",
      "253/253 [==============================] - 1s 2ms/step - loss: 5700.0674\n",
      "Epoch 47/100\n",
      "253/253 [==============================] - 1s 3ms/step - loss: 5691.2568\n",
      "Epoch 48/100\n",
      "253/253 [==============================] - 1s 3ms/step - loss: 5683.7769\n",
      "Epoch 49/100\n",
      "253/253 [==============================] - 1s 3ms/step - loss: 5673.1431\n",
      "Epoch 50/100\n",
      "253/253 [==============================] - 1s 3ms/step - loss: 5665.4502\n",
      "Epoch 51/100\n",
      "253/253 [==============================] - 0s 2ms/step - loss: 5657.6685\n",
      "Epoch 52/100\n",
      "253/253 [==============================] - 0s 2ms/step - loss: 5649.8384\n",
      "Epoch 53/100\n",
      "253/253 [==============================] - 0s 2ms/step - loss: 5635.7334\n",
      "Epoch 54/100\n",
      "253/253 [==============================] - 0s 2ms/step - loss: 5637.2661\n",
      "Epoch 55/100\n",
      "253/253 [==============================] - 0s 2ms/step - loss: 5626.1646\n",
      "Epoch 56/100\n",
      "253/253 [==============================] - 0s 2ms/step - loss: 5618.9580\n",
      "Epoch 57/100\n",
      "253/253 [==============================] - 0s 2ms/step - loss: 5612.3237\n",
      "Epoch 58/100\n",
      "253/253 [==============================] - 0s 2ms/step - loss: 5605.6382\n",
      "Epoch 59/100\n",
      "253/253 [==============================] - 0s 2ms/step - loss: 5597.3140\n",
      "Epoch 60/100\n",
      "253/253 [==============================] - 0s 2ms/step - loss: 5593.6401\n",
      "Epoch 61/100\n",
      "253/253 [==============================] - 0s 2ms/step - loss: 5584.7134\n",
      "Epoch 62/100\n",
      "253/253 [==============================] - 1s 4ms/step - loss: 5581.9639\n",
      "Epoch 63/100\n",
      "253/253 [==============================] - 1s 3ms/step - loss: 5571.1201\n",
      "Epoch 64/100\n",
      "253/253 [==============================] - 1s 2ms/step - loss: 5567.0205\n",
      "Epoch 65/100\n",
      "253/253 [==============================] - 1s 4ms/step - loss: 5560.6597\n",
      "Epoch 66/100\n",
      "253/253 [==============================] - 0s 2ms/step - loss: 5558.9873\n",
      "Epoch 67/100\n",
      "253/253 [==============================] - 0s 2ms/step - loss: 5552.9536\n",
      "Epoch 68/100\n",
      "253/253 [==============================] - 0s 2ms/step - loss: 5546.0840\n",
      "Epoch 69/100\n",
      "253/253 [==============================] - 0s 2ms/step - loss: 5539.2998\n",
      "Epoch 70/100\n",
      "253/253 [==============================] - 1s 3ms/step - loss: 5535.8433\n",
      "Epoch 71/100\n",
      "253/253 [==============================] - 1s 3ms/step - loss: 5530.5918\n",
      "Epoch 72/100\n",
      "253/253 [==============================] - 1s 3ms/step - loss: 5528.2642\n",
      "Epoch 73/100\n",
      "253/253 [==============================] - 1s 3ms/step - loss: 5517.7935\n",
      "Epoch 74/100\n",
      "253/253 [==============================] - 0s 2ms/step - loss: 5518.6689\n",
      "Epoch 75/100\n",
      "253/253 [==============================] - 0s 2ms/step - loss: 5512.7583\n",
      "Epoch 76/100\n",
      "253/253 [==============================] - 0s 2ms/step - loss: 5507.8218\n",
      "Epoch 77/100\n",
      "253/253 [==============================] - 0s 2ms/step - loss: 5500.3105\n",
      "Epoch 78/100\n",
      "253/253 [==============================] - 0s 2ms/step - loss: 5486.3037\n",
      "Epoch 79/100\n",
      "253/253 [==============================] - 0s 2ms/step - loss: 5492.4165\n",
      "Epoch 80/100\n",
      "253/253 [==============================] - 0s 2ms/step - loss: 5488.3062\n",
      "Epoch 81/100\n",
      "253/253 [==============================] - 0s 2ms/step - loss: 5481.8477\n",
      "Epoch 82/100\n",
      "253/253 [==============================] - 0s 2ms/step - loss: 5475.7314\n",
      "Epoch 83/100\n",
      "253/253 [==============================] - 0s 2ms/step - loss: 5473.2246\n",
      "Epoch 84/100\n",
      "253/253 [==============================] - 0s 2ms/step - loss: 5467.3003\n",
      "Epoch 85/100\n",
      "253/253 [==============================] - 0s 2ms/step - loss: 5464.3496\n",
      "Epoch 86/100\n",
      "253/253 [==============================] - 0s 2ms/step - loss: 5460.8599\n",
      "Epoch 87/100\n",
      "253/253 [==============================] - 0s 2ms/step - loss: 5457.9165\n",
      "Epoch 88/100\n",
      "253/253 [==============================] - 0s 2ms/step - loss: 5449.3018\n",
      "Epoch 89/100\n",
      "253/253 [==============================] - 0s 2ms/step - loss: 5446.4775\n",
      "Epoch 90/100\n",
      "253/253 [==============================] - 0s 2ms/step - loss: 5437.9858\n",
      "Epoch 91/100\n",
      "253/253 [==============================] - 0s 2ms/step - loss: 5438.0396\n",
      "Epoch 92/100\n",
      "253/253 [==============================] - 0s 2ms/step - loss: 5433.4243\n",
      "Epoch 93/100\n",
      "253/253 [==============================] - 0s 2ms/step - loss: 5429.3281\n",
      "Epoch 94/100\n",
      "253/253 [==============================] - 0s 2ms/step - loss: 5421.7534\n",
      "Epoch 95/100\n",
      "253/253 [==============================] - 1s 2ms/step - loss: 5420.5776\n",
      "Epoch 96/100\n",
      "253/253 [==============================] - 1s 3ms/step - loss: 5415.9619\n",
      "Epoch 97/100\n",
      "253/253 [==============================] - 1s 3ms/step - loss: 5410.7915\n",
      "Epoch 98/100\n",
      "253/253 [==============================] - 1s 3ms/step - loss: 5407.2979\n",
      "Epoch 99/100\n",
      "253/253 [==============================] - 1s 2ms/step - loss: 5404.1245\n",
      "Epoch 100/100\n",
      "253/253 [==============================] - 0s 2ms/step - loss: 5401.4307\n",
      "80/80 [==============================] - 0s 1ms/step\n",
      "MAE: 35.53424253727608\n"
     ]
    }
   ],
   "source": [
    "from keras.models import Sequential\n",
    "from keras.layers import Dense\n",
    "\n",
    "# Scale the data\n",
    "from sklearn.preprocessing import MinMaxScaler\n",
    "scaler = MinMaxScaler()\n",
    "X = scaler.fit_transform(X)\n",
    "\n",
    "# Create ANN\n",
    "model = Sequential()\n",
    "model.add(Dense(64, input_dim=X.shape[1], activation='relu'))\n",
    "model.add(Dense(1, activation='linear'))\n",
    "\n",
    "# Compile the model\n",
    "model.compile(loss='mean_squared_error', optimizer='adam')\n",
    "\n",
    "# Train the model\n",
    "model.fit(X, y, epochs=100, batch_size=10)\n",
    "\n",
    "# Predict the prices\n",
    "predictions = model.predict(X)\n",
    "\n",
    "# Evaluation metrics\n",
    "from sklearn.metrics import mean_absolute_error\n",
    "print(\"MAE:\", mean_absolute_error(y, predictions))"
   ]
  },
  {
   "cell_type": "markdown",
   "id": "1eb8f55b",
   "metadata": {},
   "source": [
    "Importing model into pickle for deployment"
   ]
  },
  {
   "cell_type": "code",
   "execution_count": 3,
   "id": "5daa6540",
   "metadata": {},
   "outputs": [],
   "source": [
    "import pickle"
   ]
  },
  {
   "cell_type": "code",
   "execution_count": 4,
   "id": "861d5fe7",
   "metadata": {},
   "outputs": [],
   "source": [
    "# Open a file,\n",
    "\n",
    "file = open('regr.pkl', 'wb')\n",
    "\n",
    "pickle.dump(regr, file)"
   ]
  }
 ],
 "metadata": {
  "colab": {
   "provenance": []
  },
  "kernelspec": {
   "display_name": "Python 3 (ipykernel)",
   "language": "python",
   "name": "python3"
  },
  "language_info": {
   "codemirror_mode": {
    "name": "ipython",
    "version": 3
   },
   "file_extension": ".py",
   "mimetype": "text/x-python",
   "name": "python",
   "nbconvert_exporter": "python",
   "pygments_lexer": "ipython3",
   "version": "3.9.13"
  }
 },
 "nbformat": 4,
 "nbformat_minor": 5
}
