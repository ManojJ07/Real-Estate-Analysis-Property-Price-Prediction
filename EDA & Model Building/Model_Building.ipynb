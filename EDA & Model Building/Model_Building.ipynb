{
 "cells": [
  {
   "cell_type": "code",
   "execution_count": 1,
   "id": "bdc532b0",
   "metadata": {
    "id": "bdc532b0"
   },
   "outputs": [],
   "source": [
    "import statsmodels.api as sm\n",
    "from statsmodels.graphics.regressionplots import influence_plot\n",
    "import matplotlib.pyplot as plt\n",
    "import seaborn as sns\n",
    "import numpy as np"
   ]
  },
  {
   "cell_type": "code",
   "execution_count": 2,
   "id": "f9c11664",
   "metadata": {
    "id": "f9c11664"
   },
   "outputs": [],
   "source": [
    "import warnings\n",
    "warnings.filterwarnings('ignore')"
   ]
  },
  {
   "cell_type": "code",
   "execution_count": 3,
   "id": "1668f042",
   "metadata": {
    "colab": {
     "base_uri": "https://localhost:8080/",
     "height": 206
    },
    "id": "1668f042",
    "outputId": "7b94123e-a51c-49da-b37c-ddd17091ed96"
   },
   "outputs": [
    {
     "data": {
      "text/html": [
       "\n",
       "  <div id=\"df-9cd40c9f-d776-4313-b351-485961357969\">\n",
       "    <div class=\"colab-df-container\">\n",
       "      <div>\n",
       "<style scoped>\n",
       "    .dataframe tbody tr th:only-of-type {\n",
       "        vertical-align: middle;\n",
       "    }\n",
       "\n",
       "    .dataframe tbody tr th {\n",
       "        vertical-align: top;\n",
       "    }\n",
       "\n",
       "    .dataframe thead th {\n",
       "        text-align: right;\n",
       "    }\n",
       "</style>\n",
       "<table border=\"1\" class=\"dataframe\">\n",
       "  <thead>\n",
       "    <tr style=\"text-align: right;\">\n",
       "      <th></th>\n",
       "      <th>BHK</th>\n",
       "      <th>Baths</th>\n",
       "      <th>Total_Area_SqFt</th>\n",
       "      <th>Price_per_SqFt</th>\n",
       "      <th>Type_of_Land</th>\n",
       "      <th>Area</th>\n",
       "      <th>Price</th>\n",
       "      <th>Location</th>\n",
       "    </tr>\n",
       "  </thead>\n",
       "  <tbody>\n",
       "    <tr>\n",
       "      <th>0</th>\n",
       "      <td>3</td>\n",
       "      <td>3</td>\n",
       "      <td>1775</td>\n",
       "      <td>4056</td>\n",
       "      <td>Apartment</td>\n",
       "      <td>Vaishnodevi Circle</td>\n",
       "      <td>7200000</td>\n",
       "      <td>Ahmedabad</td>\n",
       "    </tr>\n",
       "    <tr>\n",
       "      <th>1</th>\n",
       "      <td>0</td>\n",
       "      <td>0</td>\n",
       "      <td>122076</td>\n",
       "      <td>2785</td>\n",
       "      <td>Residential land / Plot</td>\n",
       "      <td>Sanand</td>\n",
       "      <td>3400000</td>\n",
       "      <td>Ahmedabad</td>\n",
       "    </tr>\n",
       "    <tr>\n",
       "      <th>2</th>\n",
       "      <td>3</td>\n",
       "      <td>3</td>\n",
       "      <td>2043</td>\n",
       "      <td>7831</td>\n",
       "      <td>Apartment</td>\n",
       "      <td>Sola</td>\n",
       "      <td>15000000</td>\n",
       "      <td>Ahmedabad</td>\n",
       "    </tr>\n",
       "    <tr>\n",
       "      <th>3</th>\n",
       "      <td>3</td>\n",
       "      <td>3</td>\n",
       "      <td>2385</td>\n",
       "      <td>3522</td>\n",
       "      <td>Apartment</td>\n",
       "      <td>Naroda</td>\n",
       "      <td>8400000</td>\n",
       "      <td>Ahmedabad</td>\n",
       "    </tr>\n",
       "    <tr>\n",
       "      <th>4</th>\n",
       "      <td>3</td>\n",
       "      <td>3</td>\n",
       "      <td>3114</td>\n",
       "      <td>11240</td>\n",
       "      <td>Bedroom House</td>\n",
       "      <td>Bhadaj</td>\n",
       "      <td>35000000</td>\n",
       "      <td>Ahmedabad</td>\n",
       "    </tr>\n",
       "  </tbody>\n",
       "</table>\n",
       "</div>\n",
       "      <button class=\"colab-df-convert\" onclick=\"convertToInteractive('df-9cd40c9f-d776-4313-b351-485961357969')\"\n",
       "              title=\"Convert this dataframe to an interactive table.\"\n",
       "              style=\"display:none;\">\n",
       "        \n",
       "  <svg xmlns=\"http://www.w3.org/2000/svg\" height=\"24px\"viewBox=\"0 0 24 24\"\n",
       "       width=\"24px\">\n",
       "    <path d=\"M0 0h24v24H0V0z\" fill=\"none\"/>\n",
       "    <path d=\"M18.56 5.44l.94 2.06.94-2.06 2.06-.94-2.06-.94-.94-2.06-.94 2.06-2.06.94zm-11 1L8.5 8.5l.94-2.06 2.06-.94-2.06-.94L8.5 2.5l-.94 2.06-2.06.94zm10 10l.94 2.06.94-2.06 2.06-.94-2.06-.94-.94-2.06-.94 2.06-2.06.94z\"/><path d=\"M17.41 7.96l-1.37-1.37c-.4-.4-.92-.59-1.43-.59-.52 0-1.04.2-1.43.59L10.3 9.45l-7.72 7.72c-.78.78-.78 2.05 0 2.83L4 21.41c.39.39.9.59 1.41.59.51 0 1.02-.2 1.41-.59l7.78-7.78 2.81-2.81c.8-.78.8-2.07 0-2.86zM5.41 20L4 18.59l7.72-7.72 1.47 1.35L5.41 20z\"/>\n",
       "  </svg>\n",
       "      </button>\n",
       "      \n",
       "  <style>\n",
       "    .colab-df-container {\n",
       "      display:flex;\n",
       "      flex-wrap:wrap;\n",
       "      gap: 12px;\n",
       "    }\n",
       "\n",
       "    .colab-df-convert {\n",
       "      background-color: #E8F0FE;\n",
       "      border: none;\n",
       "      border-radius: 50%;\n",
       "      cursor: pointer;\n",
       "      display: none;\n",
       "      fill: #1967D2;\n",
       "      height: 32px;\n",
       "      padding: 0 0 0 0;\n",
       "      width: 32px;\n",
       "    }\n",
       "\n",
       "    .colab-df-convert:hover {\n",
       "      background-color: #E2EBFA;\n",
       "      box-shadow: 0px 1px 2px rgba(60, 64, 67, 0.3), 0px 1px 3px 1px rgba(60, 64, 67, 0.15);\n",
       "      fill: #174EA6;\n",
       "    }\n",
       "\n",
       "    [theme=dark] .colab-df-convert {\n",
       "      background-color: #3B4455;\n",
       "      fill: #D2E3FC;\n",
       "    }\n",
       "\n",
       "    [theme=dark] .colab-df-convert:hover {\n",
       "      background-color: #434B5C;\n",
       "      box-shadow: 0px 1px 3px 1px rgba(0, 0, 0, 0.15);\n",
       "      filter: drop-shadow(0px 1px 2px rgba(0, 0, 0, 0.3));\n",
       "      fill: #FFFFFF;\n",
       "    }\n",
       "  </style>\n",
       "\n",
       "      <script>\n",
       "        const buttonEl =\n",
       "          document.querySelector('#df-9cd40c9f-d776-4313-b351-485961357969 button.colab-df-convert');\n",
       "        buttonEl.style.display =\n",
       "          google.colab.kernel.accessAllowed ? 'block' : 'none';\n",
       "\n",
       "        async function convertToInteractive(key) {\n",
       "          const element = document.querySelector('#df-9cd40c9f-d776-4313-b351-485961357969');\n",
       "          const dataTable =\n",
       "            await google.colab.kernel.invokeFunction('convertToInteractive',\n",
       "                                                     [key], {});\n",
       "          if (!dataTable) return;\n",
       "\n",
       "          const docLinkHtml = 'Like what you see? Visit the ' +\n",
       "            '<a target=\"_blank\" href=https://colab.research.google.com/notebooks/data_table.ipynb>data table notebook</a>'\n",
       "            + ' to learn more about interactive tables.';\n",
       "          element.innerHTML = '';\n",
       "          dataTable['output_type'] = 'display_data';\n",
       "          await google.colab.output.renderOutput(dataTable, element);\n",
       "          const docLink = document.createElement('div');\n",
       "          docLink.innerHTML = docLinkHtml;\n",
       "          element.appendChild(docLink);\n",
       "        }\n",
       "      </script>\n",
       "    </div>\n",
       "  </div>\n",
       "  "
      ],
      "text/plain": [
       "   BHK  Baths  Total_Area_SqFt  Price_per_SqFt             Type_of_Land  \\\n",
       "0    3      3             1775            4056                Apartment   \n",
       "1    0      0           122076            2785  Residential land / Plot   \n",
       "2    3      3             2043            7831                Apartment   \n",
       "3    3      3             2385            3522                Apartment   \n",
       "4    3      3             3114           11240            Bedroom House   \n",
       "\n",
       "                 Area     Price   Location  \n",
       "0  Vaishnodevi Circle   7200000  Ahmedabad  \n",
       "1              Sanand   3400000  Ahmedabad  \n",
       "2                Sola  15000000  Ahmedabad  \n",
       "3              Naroda   8400000  Ahmedabad  \n",
       "4              Bhadaj  35000000  Ahmedabad  "
      ]
     },
     "execution_count": 3,
     "metadata": {},
     "output_type": "execute_result"
    }
   ],
   "source": [
    "import pandas as pd\n",
    "\n",
    "df = pd.read_csv(\"Property.csv\")\n",
    "df.head()"
   ]
  },
  {
   "cell_type": "code",
   "execution_count": 4,
   "id": "6cb4f887",
   "metadata": {
    "id": "6cb4f887"
   },
   "outputs": [],
   "source": [
    "from sklearn.preprocessing import LabelEncoder\n",
    "for column in df.columns:\n",
    "    le = LabelEncoder()\n",
    "    df[column] = le.fit_transform(df[column])"
   ]
  },
  {
   "cell_type": "code",
   "execution_count": 5,
   "id": "b5bc97a8",
   "metadata": {
    "id": "b5bc97a8"
   },
   "outputs": [],
   "source": [
    "from sklearn import metrics\n",
    "\n",
    "def accuracy(model):\n",
    "    pred = model.predict(x_test)\n",
    "    accu = metrics.accuracy_score(y_test,pred)\n",
    "    print(\"\\nAcuuracy Of the Model: \",accu,\"\\n\\n\")"
   ]
  },
  {
   "cell_type": "code",
   "execution_count": 6,
   "id": "e1994f25",
   "metadata": {
    "id": "e1994f25"
   },
   "outputs": [],
   "source": [
    "import statsmodels.formula.api as smf"
   ]
  },
  {
   "cell_type": "code",
   "execution_count": 7,
   "id": "94663e8a",
   "metadata": {
    "id": "94663e8a"
   },
   "outputs": [],
   "source": [
    "model=smf.ols('Price~BHK+Baths+Total_Area_SqFt+Price_per_SqFt',data=df).fit()"
   ]
  },
  {
   "cell_type": "code",
   "execution_count": 8,
   "id": "915fc0c0",
   "metadata": {
    "id": "915fc0c0"
   },
   "outputs": [],
   "source": [
    "x=df.iloc[:,0:6].values\n",
    "y=df.iloc[:,6].values"
   ]
  },
  {
   "cell_type": "code",
   "execution_count": 9,
   "id": "7456a2e8",
   "metadata": {
    "id": "7456a2e8"
   },
   "outputs": [],
   "source": [
    "from sklearn.model_selection import train_test_split"
   ]
  },
  {
   "cell_type": "code",
   "execution_count": 10,
   "id": "70b019ea",
   "metadata": {
    "id": "70b019ea"
   },
   "outputs": [],
   "source": [
    "x_train,x_test,y_train,y_test=train_test_split(x,y,test_size=0.30, random_state=42)"
   ]
  },
  {
   "cell_type": "code",
   "execution_count": 11,
   "id": "688302ce",
   "metadata": {
    "id": "688302ce"
   },
   "outputs": [],
   "source": [
    "from sklearn.linear_model import LinearRegression"
   ]
  },
  {
   "cell_type": "code",
   "execution_count": 12,
   "id": "5d520b09",
   "metadata": {
    "id": "5d520b09"
   },
   "outputs": [],
   "source": [
    "reg=LinearRegression()"
   ]
  },
  {
   "cell_type": "code",
   "execution_count": 13,
   "id": "1fa152b9",
   "metadata": {
    "colab": {
     "base_uri": "https://localhost:8080/"
    },
    "id": "1fa152b9",
    "outputId": "5eefde5e-1066-4cd8-8dea-a08c74385148"
   },
   "outputs": [
    {
     "data": {
      "text/plain": [
       "LinearRegression()"
      ]
     },
     "execution_count": 13,
     "metadata": {},
     "output_type": "execute_result"
    }
   ],
   "source": [
    "reg.fit(x_train,y_train)"
   ]
  },
  {
   "cell_type": "code",
   "execution_count": 14,
   "id": "0e8237dd",
   "metadata": {
    "colab": {
     "base_uri": "https://localhost:8080/"
    },
    "id": "0e8237dd",
    "outputId": "1f3701c1-d805-4ec5-afe4-70f9c230e326"
   },
   "outputs": [
    {
     "data": {
      "text/plain": [
       "0.5202063772735852"
      ]
     },
     "execution_count": 14,
     "metadata": {},
     "output_type": "execute_result"
    }
   ],
   "source": [
    "reg.score(x_test,y_test)"
   ]
  },
  {
   "cell_type": "code",
   "execution_count": 15,
   "id": "9c3161c0",
   "metadata": {
    "id": "9c3161c0"
   },
   "outputs": [],
   "source": [
    "from sklearn.gaussian_process import GaussianProcessClassifier\n",
    "from sklearn.neighbors import KNeighborsClassifier\n",
    "from sklearn.svm import SVC\n",
    "from sklearn.tree import DecisionTreeClassifier\n",
    "from sklearn import metrics\n",
    "from xgboost import XGBClassifier\n",
    "from sklearn.ensemble import ExtraTreesClassifier\n",
    "from sklearn.tree import ExtraTreeClassifier\n",
    "from sklearn.tree import DecisionTreeClassifier\n",
    "from sklearn.ensemble import GradientBoostingClassifier\n",
    "from sklearn.ensemble import BaggingClassifier\n",
    "from sklearn.ensemble import AdaBoostClassifier\n",
    "from sklearn.ensemble import RandomForestClassifier\n",
    "from sklearn.linear_model import LogisticRegression\n",
    "from lightgbm import LGBMClassifier\n",
    "from sklearn.model_selection import GridSearchCV\n",
    "from sklearn.linear_model import LogisticRegression\n",
    "from sklearn.naive_bayes import GaussianNB\n",
    "from sklearn.neural_network import MLPClassifier"
   ]
  },
  {
   "cell_type": "code",
   "execution_count": 16,
   "id": "fff38d99",
   "metadata": {
    "colab": {
     "base_uri": "https://localhost:8080/"
    },
    "id": "fff38d99",
    "outputId": "9585049f-1d8e-4ae9-c523-6df620db7fb7"
   },
   "outputs": [
    {
     "name": "stdout",
     "output_type": "stream",
     "text": [
      "Best parameters set found on development set:\n",
      "{'criterion': 'gini', 'max_depth': 4, 'max_features': 'auto', 'n_estimators': 200}\n",
      "\n",
      "Acuuracy Of the Model:  0.05138339920948617 \n",
      "\n",
      "\n"
     ]
    }
   ],
   "source": [
    "rfc=RandomForestClassifier(random_state=42)\n",
    "\n",
    "param_grid = { \n",
    "    'n_estimators': [200],\n",
    "    'max_features': ['auto'],\n",
    "    'max_depth' : [4,5,6,7,8],\n",
    "    'criterion' :['gini']\n",
    "}\n",
    "\n",
    "CV_rfc = GridSearchCV(estimator=rfc, param_grid=param_grid, cv= 5,scoring = 'roc_auc')\n",
    "CV_rfc.fit(x_train, y_train.ravel())\n",
    "print(\"Best parameters set found on development set:\")\n",
    "print(CV_rfc.best_params_)\n",
    "accuracy(CV_rfc)"
   ]
  },
  {
   "cell_type": "code",
   "execution_count": 17,
   "id": "ec8cd606",
   "metadata": {
    "colab": {
     "base_uri": "https://localhost:8080/"
    },
    "id": "ec8cd606",
    "outputId": "7009a75f-5a16-4080-9dc6-2e9ecfe5320f"
   },
   "outputs": [
    {
     "name": "stdout",
     "output_type": "stream",
     "text": [
      "\n",
      "Acuuracy Of the Model:  0.1831357048748353 \n",
      "\n",
      "\n"
     ]
    }
   ],
   "source": [
    "svm = SVC(kernel=\"linear\", C=0.1,random_state=0)\n",
    "svm.fit(x_train, y_train.ravel())\n",
    "\n",
    "accuracy(svm)"
   ]
  },
  {
   "cell_type": "code",
   "execution_count": 18,
   "id": "dd31a635",
   "metadata": {
    "colab": {
     "base_uri": "https://localhost:8080/"
    },
    "id": "dd31a635",
    "outputId": "11044571-065c-4a7f-de57-0e414d80218f"
   },
   "outputs": [
    {
     "name": "stdout",
     "output_type": "stream",
     "text": [
      "\n",
      "Acuuracy Of the Model:  0.07246376811594203 \n",
      "\n",
      "\n"
     ]
    }
   ],
   "source": [
    "clf_dtc = DecisionTreeClassifier(criterion='entropy',max_depth=5,random_state=0)\n",
    "clf_dtc.fit(x_train, y_train.ravel())\n",
    "\n",
    "accuracy(clf_dtc)"
   ]
  },
  {
   "cell_type": "code",
   "execution_count": 19,
   "id": "65122de3",
   "metadata": {
    "colab": {
     "base_uri": "https://localhost:8080/"
    },
    "id": "65122de3",
    "outputId": "7fc053ba-2cf4-44c8-d5cc-446f761dad72"
   },
   "outputs": [
    {
     "name": "stdout",
     "output_type": "stream",
     "text": [
      "\n",
      "Acuuracy Of the Model:  0.09881422924901186 \n",
      "\n",
      "\n"
     ]
    }
   ],
   "source": [
    "params = {\n",
    "        'min_child_weight': [1, 5, 10],\n",
    "        'gamma': [0.5, 1, 1.5, 2, 5],\n",
    "        'subsample': [0.6, 0.8, 1.0],\n",
    "        'colsample_bytree': [0.6, 0.8, 1.0],\n",
    "        'max_depth': [1,2,3,4,5]\n",
    "        }\n",
    "\n",
    "clf_xgb = XGBClassifier(random_state=0)\n",
    "clf_xgb.fit(x_train, y_train.ravel())\n",
    "\n",
    "accuracy(clf_xgb)"
   ]
  },
  {
   "cell_type": "code",
   "execution_count": 20,
   "id": "cd14910b",
   "metadata": {
    "id": "cd14910b"
   },
   "outputs": [],
   "source": [
    "from sklearn import svm, tree, linear_model, neighbors, naive_bayes, ensemble, discriminant_analysis, gaussian_process\n",
    "from xgboost import XGBClassifier\n",
    "from sklearn.preprocessing import LabelEncoder\n",
    "from sklearn import feature_selection\n",
    "from sklearn import model_selection"
   ]
  },
  {
   "cell_type": "code",
   "execution_count": 21,
   "id": "805e6c3c",
   "metadata": {
    "id": "805e6c3c"
   },
   "outputs": [],
   "source": [
    "clfs =[LGBMClassifier(),ExtraTreesClassifier(),GradientBoostingClassifier(),AdaBoostClassifier(),KNeighborsClassifier(),\n",
    "          MLPClassifier(alpha=1),GaussianNB(),LogisticRegression()]"
   ]
  },
  {
   "cell_type": "code",
   "execution_count": 22,
   "id": "f78ad524",
   "metadata": {
    "colab": {
     "base_uri": "https://localhost:8080/"
    },
    "id": "f78ad524",
    "outputId": "882950fc-587a-4a53-b545-89cf1a039f5f"
   },
   "outputs": [
    {
     "name": "stdout",
     "output_type": "stream",
     "text": [
      "LGBMClassifier : \n",
      "\n",
      "Acuuracy Of the Model:  0.11330698287220026 \n",
      "\n",
      "\n",
      "ExtraTreesClassifier : \n",
      "\n",
      "Acuuracy Of the Model:  0.08168642951251646 \n",
      "\n",
      "\n",
      "GradientBoostingClassifier : \n",
      "\n",
      "Acuuracy Of the Model:  0.010540184453227932 \n",
      "\n",
      "\n",
      "AdaBoostClassifier : \n",
      "\n",
      "Acuuracy Of the Model:  0.03293807641633729 \n",
      "\n",
      "\n",
      "KNeighborsClassifier : \n",
      "\n",
      "Acuuracy Of the Model:  0.05533596837944664 \n",
      "\n",
      "\n",
      "MLPClassifier : \n",
      "\n",
      "Acuuracy Of the Model:  0.021080368906455864 \n",
      "\n",
      "\n",
      "GaussianNB : \n",
      "\n",
      "Acuuracy Of the Model:  0.013175230566534914 \n",
      "\n",
      "\n",
      "LogisticRegression : \n",
      "\n",
      "Acuuracy Of the Model:  0.03820816864295125 \n",
      "\n",
      "\n"
     ]
    }
   ],
   "source": [
    "for model in clfs:\n",
    "    print(str(model).split('(')[0],\": \")\n",
    "    model.fit(x_train,y_train.ravel())\n",
    "    X = pd.DataFrame(x_train)\n",
    "    accuracy(model)"
   ]
  }
 ],
 "metadata": {
  "colab": {
   "provenance": []
  },
  "kernelspec": {
   "display_name": "Python 3 (ipykernel)",
   "language": "python",
   "name": "python3"
  },
  "language_info": {
   "codemirror_mode": {
    "name": "ipython",
    "version": 3
   },
   "file_extension": ".py",
   "mimetype": "text/x-python",
   "name": "python",
   "nbconvert_exporter": "python",
   "pygments_lexer": "ipython3",
   "version": "3.11.3"
  }
 },
 "nbformat": 4,
 "nbformat_minor": 5
}
