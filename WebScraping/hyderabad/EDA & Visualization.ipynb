{
 "cells": [
  {
   "cell_type": "code",
   "execution_count": 1,
   "id": "4a0068aa",
   "metadata": {},
   "outputs": [],
   "source": [
    "import pandas as pd\n",
    "import numpy as np\n",
    "import matplotlib.pyplot as plt\n",
    "import seaborn as sns\n",
    "\n",
    "import warnings\n",
    "warnings.filterwarnings('ignore')"
   ]
  },
  {
   "cell_type": "code",
   "execution_count": 2,
   "id": "d5d66b2d",
   "metadata": {},
   "outputs": [
    {
     "data": {
      "text/html": [
       "<div>\n",
       "<style scoped>\n",
       "    .dataframe tbody tr th:only-of-type {\n",
       "        vertical-align: middle;\n",
       "    }\n",
       "\n",
       "    .dataframe tbody tr th {\n",
       "        vertical-align: top;\n",
       "    }\n",
       "\n",
       "    .dataframe thead th {\n",
       "        text-align: right;\n",
       "    }\n",
       "</style>\n",
       "<table border=\"1\" class=\"dataframe\">\n",
       "  <thead>\n",
       "    <tr style=\"text-align: right;\">\n",
       "      <th></th>\n",
       "      <th>Unnamed: 0</th>\n",
       "      <th>BHK</th>\n",
       "      <th>Baths</th>\n",
       "      <th>Total_Area_SqFt</th>\n",
       "      <th>Price_per_SqFt</th>\n",
       "      <th>Type_of_Land</th>\n",
       "      <th>Area</th>\n",
       "      <th>Price</th>\n",
       "      <th>Location</th>\n",
       "    </tr>\n",
       "  </thead>\n",
       "  <tbody>\n",
       "    <tr>\n",
       "      <th>0</th>\n",
       "      <td>0</td>\n",
       "      <td>0</td>\n",
       "      <td>0</td>\n",
       "      <td>1323</td>\n",
       "      <td>722</td>\n",
       "      <td>Residential land / Plot</td>\n",
       "      <td>Bangalore Highway</td>\n",
       "      <td>95500000</td>\n",
       "      <td>Hyderabad</td>\n",
       "    </tr>\n",
       "    <tr>\n",
       "      <th>1</th>\n",
       "      <td>1</td>\n",
       "      <td>3</td>\n",
       "      <td>3</td>\n",
       "      <td>1870</td>\n",
       "      <td>4000</td>\n",
       "      <td>Apartment</td>\n",
       "      <td>Osman Nagar</td>\n",
       "      <td>7480000</td>\n",
       "      <td>Hyderabad</td>\n",
       "    </tr>\n",
       "    <tr>\n",
       "      <th>2</th>\n",
       "      <td>2</td>\n",
       "      <td>0</td>\n",
       "      <td>0</td>\n",
       "      <td>1323</td>\n",
       "      <td>722</td>\n",
       "      <td>Residential land / Plot</td>\n",
       "      <td>Bangalore Highway</td>\n",
       "      <td>95500000</td>\n",
       "      <td>Hyderabad</td>\n",
       "    </tr>\n",
       "    <tr>\n",
       "      <th>3</th>\n",
       "      <td>3</td>\n",
       "      <td>3</td>\n",
       "      <td>3</td>\n",
       "      <td>1870</td>\n",
       "      <td>4000</td>\n",
       "      <td>Apartment</td>\n",
       "      <td>Osman Nagar</td>\n",
       "      <td>7480000</td>\n",
       "      <td>Hyderabad</td>\n",
       "    </tr>\n",
       "    <tr>\n",
       "      <th>4</th>\n",
       "      <td>4</td>\n",
       "      <td>0</td>\n",
       "      <td>0</td>\n",
       "      <td>1800</td>\n",
       "      <td>20000</td>\n",
       "      <td>Residential land / Plot</td>\n",
       "      <td>Nanakramguda</td>\n",
       "      <td>36000000</td>\n",
       "      <td>Hyderabad</td>\n",
       "    </tr>\n",
       "    <tr>\n",
       "      <th>...</th>\n",
       "      <td>...</td>\n",
       "      <td>...</td>\n",
       "      <td>...</td>\n",
       "      <td>...</td>\n",
       "      <td>...</td>\n",
       "      <td>...</td>\n",
       "      <td>...</td>\n",
       "      <td>...</td>\n",
       "      <td>...</td>\n",
       "    </tr>\n",
       "    <tr>\n",
       "      <th>409</th>\n",
       "      <td>409</td>\n",
       "      <td>2</td>\n",
       "      <td>2</td>\n",
       "      <td>1000</td>\n",
       "      <td>5500</td>\n",
       "      <td>Apartment</td>\n",
       "      <td>Sabza Colony</td>\n",
       "      <td>5500000</td>\n",
       "      <td>Hyderabad</td>\n",
       "    </tr>\n",
       "    <tr>\n",
       "      <th>410</th>\n",
       "      <td>410</td>\n",
       "      <td>0</td>\n",
       "      <td>0</td>\n",
       "      <td>1800</td>\n",
       "      <td>2333</td>\n",
       "      <td>Residential land / Plot</td>\n",
       "      <td>Keesara</td>\n",
       "      <td>4200000</td>\n",
       "      <td>Hyderabad</td>\n",
       "    </tr>\n",
       "    <tr>\n",
       "      <th>411</th>\n",
       "      <td>411</td>\n",
       "      <td>0</td>\n",
       "      <td>0</td>\n",
       "      <td>1503</td>\n",
       "      <td>1796</td>\n",
       "      <td>Residential land / Plot</td>\n",
       "      <td>Taramatipet</td>\n",
       "      <td>2700000</td>\n",
       "      <td>Hyderabad</td>\n",
       "    </tr>\n",
       "    <tr>\n",
       "      <th>412</th>\n",
       "      <td>412</td>\n",
       "      <td>0</td>\n",
       "      <td>0</td>\n",
       "      <td>2400</td>\n",
       "      <td>3333</td>\n",
       "      <td>Residential land / Plot</td>\n",
       "      <td>Shankarpally</td>\n",
       "      <td>8000000</td>\n",
       "      <td>Hyderabad</td>\n",
       "    </tr>\n",
       "    <tr>\n",
       "      <th>413</th>\n",
       "      <td>413</td>\n",
       "      <td>0</td>\n",
       "      <td>0</td>\n",
       "      <td>1323</td>\n",
       "      <td>722</td>\n",
       "      <td>Residential land / Plot</td>\n",
       "      <td>Bangalore Highway</td>\n",
       "      <td>95500000</td>\n",
       "      <td>Hyderabad</td>\n",
       "    </tr>\n",
       "  </tbody>\n",
       "</table>\n",
       "<p>414 rows × 9 columns</p>\n",
       "</div>"
      ],
      "text/plain": [
       "     Unnamed: 0  BHK  Baths  Total_Area_SqFt  Price_per_SqFt  \\\n",
       "0             0    0      0             1323             722   \n",
       "1             1    3      3             1870            4000   \n",
       "2             2    0      0             1323             722   \n",
       "3             3    3      3             1870            4000   \n",
       "4             4    0      0             1800           20000   \n",
       "..          ...  ...    ...              ...             ...   \n",
       "409         409    2      2             1000            5500   \n",
       "410         410    0      0             1800            2333   \n",
       "411         411    0      0             1503            1796   \n",
       "412         412    0      0             2400            3333   \n",
       "413         413    0      0             1323             722   \n",
       "\n",
       "                Type_of_Land               Area     Price   Location  \n",
       "0    Residential land / Plot  Bangalore Highway  95500000  Hyderabad  \n",
       "1                  Apartment        Osman Nagar   7480000  Hyderabad  \n",
       "2    Residential land / Plot  Bangalore Highway  95500000  Hyderabad  \n",
       "3                  Apartment        Osman Nagar   7480000  Hyderabad  \n",
       "4    Residential land / Plot       Nanakramguda  36000000  Hyderabad  \n",
       "..                       ...                ...       ...        ...  \n",
       "409                Apartment       Sabza Colony   5500000  Hyderabad  \n",
       "410  Residential land / Plot            Keesara   4200000  Hyderabad  \n",
       "411  Residential land / Plot        Taramatipet   2700000  Hyderabad  \n",
       "412  Residential land / Plot       Shankarpally   8000000  Hyderabad  \n",
       "413  Residential land / Plot  Bangalore Highway  95500000  Hyderabad  \n",
       "\n",
       "[414 rows x 9 columns]"
      ]
     },
     "execution_count": 2,
     "metadata": {},
     "output_type": "execute_result"
    }
   ],
   "source": [
    "df = pd.read_excel('Buy_Data.xlsx')\n",
    "df"
   ]
  },
  {
   "cell_type": "code",
   "execution_count": 3,
   "id": "d7df2173",
   "metadata": {},
   "outputs": [
    {
     "data": {
      "text/html": [
       "<div>\n",
       "<style scoped>\n",
       "    .dataframe tbody tr th:only-of-type {\n",
       "        vertical-align: middle;\n",
       "    }\n",
       "\n",
       "    .dataframe tbody tr th {\n",
       "        vertical-align: top;\n",
       "    }\n",
       "\n",
       "    .dataframe thead th {\n",
       "        text-align: right;\n",
       "    }\n",
       "</style>\n",
       "<table border=\"1\" class=\"dataframe\">\n",
       "  <thead>\n",
       "    <tr style=\"text-align: right;\">\n",
       "      <th></th>\n",
       "      <th>BHK</th>\n",
       "      <th>Baths</th>\n",
       "      <th>Total_Area_SqFt</th>\n",
       "      <th>Price_per_SqFt</th>\n",
       "      <th>Type_of_Land</th>\n",
       "      <th>Area</th>\n",
       "      <th>Price</th>\n",
       "      <th>Location</th>\n",
       "    </tr>\n",
       "  </thead>\n",
       "  <tbody>\n",
       "    <tr>\n",
       "      <th>0</th>\n",
       "      <td>0</td>\n",
       "      <td>0</td>\n",
       "      <td>1323</td>\n",
       "      <td>722</td>\n",
       "      <td>Residential land / Plot</td>\n",
       "      <td>Bangalore Highway</td>\n",
       "      <td>95500000</td>\n",
       "      <td>Hyderabad</td>\n",
       "    </tr>\n",
       "    <tr>\n",
       "      <th>1</th>\n",
       "      <td>3</td>\n",
       "      <td>3</td>\n",
       "      <td>1870</td>\n",
       "      <td>4000</td>\n",
       "      <td>Apartment</td>\n",
       "      <td>Osman Nagar</td>\n",
       "      <td>7480000</td>\n",
       "      <td>Hyderabad</td>\n",
       "    </tr>\n",
       "    <tr>\n",
       "      <th>2</th>\n",
       "      <td>0</td>\n",
       "      <td>0</td>\n",
       "      <td>1323</td>\n",
       "      <td>722</td>\n",
       "      <td>Residential land / Plot</td>\n",
       "      <td>Bangalore Highway</td>\n",
       "      <td>95500000</td>\n",
       "      <td>Hyderabad</td>\n",
       "    </tr>\n",
       "    <tr>\n",
       "      <th>3</th>\n",
       "      <td>3</td>\n",
       "      <td>3</td>\n",
       "      <td>1870</td>\n",
       "      <td>4000</td>\n",
       "      <td>Apartment</td>\n",
       "      <td>Osman Nagar</td>\n",
       "      <td>7480000</td>\n",
       "      <td>Hyderabad</td>\n",
       "    </tr>\n",
       "    <tr>\n",
       "      <th>4</th>\n",
       "      <td>0</td>\n",
       "      <td>0</td>\n",
       "      <td>1800</td>\n",
       "      <td>20000</td>\n",
       "      <td>Residential land / Plot</td>\n",
       "      <td>Nanakramguda</td>\n",
       "      <td>36000000</td>\n",
       "      <td>Hyderabad</td>\n",
       "    </tr>\n",
       "    <tr>\n",
       "      <th>...</th>\n",
       "      <td>...</td>\n",
       "      <td>...</td>\n",
       "      <td>...</td>\n",
       "      <td>...</td>\n",
       "      <td>...</td>\n",
       "      <td>...</td>\n",
       "      <td>...</td>\n",
       "      <td>...</td>\n",
       "    </tr>\n",
       "    <tr>\n",
       "      <th>409</th>\n",
       "      <td>2</td>\n",
       "      <td>2</td>\n",
       "      <td>1000</td>\n",
       "      <td>5500</td>\n",
       "      <td>Apartment</td>\n",
       "      <td>Sabza Colony</td>\n",
       "      <td>5500000</td>\n",
       "      <td>Hyderabad</td>\n",
       "    </tr>\n",
       "    <tr>\n",
       "      <th>410</th>\n",
       "      <td>0</td>\n",
       "      <td>0</td>\n",
       "      <td>1800</td>\n",
       "      <td>2333</td>\n",
       "      <td>Residential land / Plot</td>\n",
       "      <td>Keesara</td>\n",
       "      <td>4200000</td>\n",
       "      <td>Hyderabad</td>\n",
       "    </tr>\n",
       "    <tr>\n",
       "      <th>411</th>\n",
       "      <td>0</td>\n",
       "      <td>0</td>\n",
       "      <td>1503</td>\n",
       "      <td>1796</td>\n",
       "      <td>Residential land / Plot</td>\n",
       "      <td>Taramatipet</td>\n",
       "      <td>2700000</td>\n",
       "      <td>Hyderabad</td>\n",
       "    </tr>\n",
       "    <tr>\n",
       "      <th>412</th>\n",
       "      <td>0</td>\n",
       "      <td>0</td>\n",
       "      <td>2400</td>\n",
       "      <td>3333</td>\n",
       "      <td>Residential land / Plot</td>\n",
       "      <td>Shankarpally</td>\n",
       "      <td>8000000</td>\n",
       "      <td>Hyderabad</td>\n",
       "    </tr>\n",
       "    <tr>\n",
       "      <th>413</th>\n",
       "      <td>0</td>\n",
       "      <td>0</td>\n",
       "      <td>1323</td>\n",
       "      <td>722</td>\n",
       "      <td>Residential land / Plot</td>\n",
       "      <td>Bangalore Highway</td>\n",
       "      <td>95500000</td>\n",
       "      <td>Hyderabad</td>\n",
       "    </tr>\n",
       "  </tbody>\n",
       "</table>\n",
       "<p>414 rows × 8 columns</p>\n",
       "</div>"
      ],
      "text/plain": [
       "     BHK  Baths  Total_Area_SqFt  Price_per_SqFt             Type_of_Land  \\\n",
       "0      0      0             1323             722  Residential land / Plot   \n",
       "1      3      3             1870            4000                Apartment   \n",
       "2      0      0             1323             722  Residential land / Plot   \n",
       "3      3      3             1870            4000                Apartment   \n",
       "4      0      0             1800           20000  Residential land / Plot   \n",
       "..   ...    ...              ...             ...                      ...   \n",
       "409    2      2             1000            5500                Apartment   \n",
       "410    0      0             1800            2333  Residential land / Plot   \n",
       "411    0      0             1503            1796  Residential land / Plot   \n",
       "412    0      0             2400            3333  Residential land / Plot   \n",
       "413    0      0             1323             722  Residential land / Plot   \n",
       "\n",
       "                  Area     Price   Location  \n",
       "0    Bangalore Highway  95500000  Hyderabad  \n",
       "1          Osman Nagar   7480000  Hyderabad  \n",
       "2    Bangalore Highway  95500000  Hyderabad  \n",
       "3          Osman Nagar   7480000  Hyderabad  \n",
       "4         Nanakramguda  36000000  Hyderabad  \n",
       "..                 ...       ...        ...  \n",
       "409       Sabza Colony   5500000  Hyderabad  \n",
       "410            Keesara   4200000  Hyderabad  \n",
       "411        Taramatipet   2700000  Hyderabad  \n",
       "412       Shankarpally   8000000  Hyderabad  \n",
       "413  Bangalore Highway  95500000  Hyderabad  \n",
       "\n",
       "[414 rows x 8 columns]"
      ]
     },
     "execution_count": 3,
     "metadata": {},
     "output_type": "execute_result"
    }
   ],
   "source": [
    "df = df.drop(\"Unnamed: 0\",axis=1)\n",
    "df"
   ]
  },
  {
   "cell_type": "code",
   "execution_count": 4,
   "id": "e63a174e",
   "metadata": {},
   "outputs": [
    {
     "data": {
      "text/plain": [
       "Index(['BHK', 'Baths', 'Total_Area_SqFt', 'Price_per_SqFt', 'Type_of_Land',\n",
       "       'Area', 'Price', 'Location'],\n",
       "      dtype='object')"
      ]
     },
     "execution_count": 4,
     "metadata": {},
     "output_type": "execute_result"
    }
   ],
   "source": [
    "df.columns"
   ]
  },
  {
   "cell_type": "code",
   "execution_count": 5,
   "id": "405d9f84",
   "metadata": {},
   "outputs": [
    {
     "data": {
      "text/plain": [
       "(414, 8)"
      ]
     },
     "execution_count": 5,
     "metadata": {},
     "output_type": "execute_result"
    }
   ],
   "source": [
    "df.shape"
   ]
  },
  {
   "cell_type": "code",
   "execution_count": 6,
   "id": "26815009",
   "metadata": {},
   "outputs": [
    {
     "data": {
      "text/plain": [
       "3"
      ]
     },
     "execution_count": 6,
     "metadata": {},
     "output_type": "execute_result"
    }
   ],
   "source": [
    "#'duplicated()' function in pandas return the duplicate row as True and othter as False\n",
    "#for counting the duplicate elements we sum all the rows\n",
    "sum(df.duplicated())"
   ]
  },
  {
   "cell_type": "code",
   "execution_count": 7,
   "id": "fe453916",
   "metadata": {},
   "outputs": [
    {
     "data": {
      "text/html": [
       "<div>\n",
       "<style scoped>\n",
       "    .dataframe tbody tr th:only-of-type {\n",
       "        vertical-align: middle;\n",
       "    }\n",
       "\n",
       "    .dataframe tbody tr th {\n",
       "        vertical-align: top;\n",
       "    }\n",
       "\n",
       "    .dataframe thead th {\n",
       "        text-align: right;\n",
       "    }\n",
       "</style>\n",
       "<table border=\"1\" class=\"dataframe\">\n",
       "  <thead>\n",
       "    <tr style=\"text-align: right;\">\n",
       "      <th></th>\n",
       "      <th>BHK</th>\n",
       "      <th>Baths</th>\n",
       "      <th>Total_Area_SqFt</th>\n",
       "      <th>Price_per_SqFt</th>\n",
       "      <th>Type_of_Land</th>\n",
       "      <th>Area</th>\n",
       "      <th>Price</th>\n",
       "      <th>Location</th>\n",
       "    </tr>\n",
       "  </thead>\n",
       "  <tbody>\n",
       "    <tr>\n",
       "      <th>3</th>\n",
       "      <td>3</td>\n",
       "      <td>3</td>\n",
       "      <td>1870</td>\n",
       "      <td>4000</td>\n",
       "      <td>Apartment</td>\n",
       "      <td>Osman Nagar</td>\n",
       "      <td>7480000</td>\n",
       "      <td>Hyderabad</td>\n",
       "    </tr>\n",
       "    <tr>\n",
       "      <th>4</th>\n",
       "      <td>0</td>\n",
       "      <td>0</td>\n",
       "      <td>1800</td>\n",
       "      <td>20000</td>\n",
       "      <td>Residential land / Plot</td>\n",
       "      <td>Nanakramguda</td>\n",
       "      <td>36000000</td>\n",
       "      <td>Hyderabad</td>\n",
       "    </tr>\n",
       "    <tr>\n",
       "      <th>5</th>\n",
       "      <td>3</td>\n",
       "      <td>3</td>\n",
       "      <td>3609</td>\n",
       "      <td>12884</td>\n",
       "      <td>Bedroom House</td>\n",
       "      <td>Mokila</td>\n",
       "      <td>46500000</td>\n",
       "      <td>Hyderabad</td>\n",
       "    </tr>\n",
       "    <tr>\n",
       "      <th>6</th>\n",
       "      <td>0</td>\n",
       "      <td>0</td>\n",
       "      <td>5445</td>\n",
       "      <td>3893</td>\n",
       "      <td>Residential land / Plot</td>\n",
       "      <td>Hayathabad</td>\n",
       "      <td>21200000</td>\n",
       "      <td>Hyderabad</td>\n",
       "    </tr>\n",
       "    <tr>\n",
       "      <th>7</th>\n",
       "      <td>0</td>\n",
       "      <td>0</td>\n",
       "      <td>435600</td>\n",
       "      <td>2410</td>\n",
       "      <td>Residential land / Plot</td>\n",
       "      <td>Kandlakoya</td>\n",
       "      <td>1000000000</td>\n",
       "      <td>Hyderabad</td>\n",
       "    </tr>\n",
       "    <tr>\n",
       "      <th>...</th>\n",
       "      <td>...</td>\n",
       "      <td>...</td>\n",
       "      <td>...</td>\n",
       "      <td>...</td>\n",
       "      <td>...</td>\n",
       "      <td>...</td>\n",
       "      <td>...</td>\n",
       "      <td>...</td>\n",
       "    </tr>\n",
       "    <tr>\n",
       "      <th>409</th>\n",
       "      <td>2</td>\n",
       "      <td>2</td>\n",
       "      <td>1000</td>\n",
       "      <td>5500</td>\n",
       "      <td>Apartment</td>\n",
       "      <td>Sabza Colony</td>\n",
       "      <td>5500000</td>\n",
       "      <td>Hyderabad</td>\n",
       "    </tr>\n",
       "    <tr>\n",
       "      <th>410</th>\n",
       "      <td>0</td>\n",
       "      <td>0</td>\n",
       "      <td>1800</td>\n",
       "      <td>2333</td>\n",
       "      <td>Residential land / Plot</td>\n",
       "      <td>Keesara</td>\n",
       "      <td>4200000</td>\n",
       "      <td>Hyderabad</td>\n",
       "    </tr>\n",
       "    <tr>\n",
       "      <th>411</th>\n",
       "      <td>0</td>\n",
       "      <td>0</td>\n",
       "      <td>1503</td>\n",
       "      <td>1796</td>\n",
       "      <td>Residential land / Plot</td>\n",
       "      <td>Taramatipet</td>\n",
       "      <td>2700000</td>\n",
       "      <td>Hyderabad</td>\n",
       "    </tr>\n",
       "    <tr>\n",
       "      <th>412</th>\n",
       "      <td>0</td>\n",
       "      <td>0</td>\n",
       "      <td>2400</td>\n",
       "      <td>3333</td>\n",
       "      <td>Residential land / Plot</td>\n",
       "      <td>Shankarpally</td>\n",
       "      <td>8000000</td>\n",
       "      <td>Hyderabad</td>\n",
       "    </tr>\n",
       "    <tr>\n",
       "      <th>413</th>\n",
       "      <td>0</td>\n",
       "      <td>0</td>\n",
       "      <td>1323</td>\n",
       "      <td>722</td>\n",
       "      <td>Residential land / Plot</td>\n",
       "      <td>Bangalore Highway</td>\n",
       "      <td>95500000</td>\n",
       "      <td>Hyderabad</td>\n",
       "    </tr>\n",
       "  </tbody>\n",
       "</table>\n",
       "<p>411 rows × 8 columns</p>\n",
       "</div>"
      ],
      "text/plain": [
       "     BHK  Baths  Total_Area_SqFt  Price_per_SqFt             Type_of_Land  \\\n",
       "3      3      3             1870            4000                Apartment   \n",
       "4      0      0             1800           20000  Residential land / Plot   \n",
       "5      3      3             3609           12884            Bedroom House   \n",
       "6      0      0             5445            3893  Residential land / Plot   \n",
       "7      0      0           435600            2410  Residential land / Plot   \n",
       "..   ...    ...              ...             ...                      ...   \n",
       "409    2      2             1000            5500                Apartment   \n",
       "410    0      0             1800            2333  Residential land / Plot   \n",
       "411    0      0             1503            1796  Residential land / Plot   \n",
       "412    0      0             2400            3333  Residential land / Plot   \n",
       "413    0      0             1323             722  Residential land / Plot   \n",
       "\n",
       "                  Area       Price   Location  \n",
       "3          Osman Nagar     7480000  Hyderabad  \n",
       "4         Nanakramguda    36000000  Hyderabad  \n",
       "5               Mokila    46500000  Hyderabad  \n",
       "6           Hayathabad    21200000  Hyderabad  \n",
       "7           Kandlakoya  1000000000  Hyderabad  \n",
       "..                 ...         ...        ...  \n",
       "409       Sabza Colony     5500000  Hyderabad  \n",
       "410            Keesara     4200000  Hyderabad  \n",
       "411        Taramatipet     2700000  Hyderabad  \n",
       "412       Shankarpally     8000000  Hyderabad  \n",
       "413  Bangalore Highway    95500000  Hyderabad  \n",
       "\n",
       "[411 rows x 8 columns]"
      ]
     },
     "execution_count": 7,
     "metadata": {},
     "output_type": "execute_result"
    }
   ],
   "source": [
    "df = df.drop_duplicates(keep='last')\n",
    "df"
   ]
  },
  {
   "cell_type": "code",
   "execution_count": 8,
   "id": "f3975e5b",
   "metadata": {},
   "outputs": [],
   "source": [
    "df.to_csv('Hyderabad.csv')"
   ]
  },
  {
   "cell_type": "code",
   "execution_count": 9,
   "id": "fa2d91bb",
   "metadata": {},
   "outputs": [
    {
     "data": {
      "text/plain": [
       "(411, 8)"
      ]
     },
     "execution_count": 9,
     "metadata": {},
     "output_type": "execute_result"
    }
   ],
   "source": [
    "df.shape"
   ]
  },
  {
   "cell_type": "code",
   "execution_count": 10,
   "id": "33d7d7d9",
   "metadata": {},
   "outputs": [
    {
     "name": "stdout",
     "output_type": "stream",
     "text": [
      "<class 'pandas.core.frame.DataFrame'>\n",
      "Int64Index: 411 entries, 3 to 413\n",
      "Data columns (total 8 columns):\n",
      " #   Column           Non-Null Count  Dtype \n",
      "---  ------           --------------  ----- \n",
      " 0   BHK              411 non-null    int64 \n",
      " 1   Baths            411 non-null    int64 \n",
      " 2   Total_Area_SqFt  411 non-null    int64 \n",
      " 3   Price_per_SqFt   411 non-null    int64 \n",
      " 4   Type_of_Land     411 non-null    object\n",
      " 5   Area             411 non-null    object\n",
      " 6   Price            411 non-null    int64 \n",
      " 7   Location         411 non-null    object\n",
      "dtypes: int64(5), object(3)\n",
      "memory usage: 28.9+ KB\n"
     ]
    }
   ],
   "source": [
    "df.info()"
   ]
  },
  {
   "cell_type": "code",
   "execution_count": 11,
   "id": "cf43ee03",
   "metadata": {},
   "outputs": [
    {
     "data": {
      "image/png": "[encoded data removed]",
      "text/plain": [
       "<Figure size 400x400 with 1 Axes>"
      ]
     },
     "metadata": {},
     "output_type": "display_data"
    }
   ],
   "source": [
    "plt.figure(figsize = (4,4))\n",
    "ax = df.dtypes.value_counts().plot(kind='bar',grid = False,fontsize=20,color='grey')\n",
    "for p in ax.patches:\n",
    "    height = p.get_height()\n",
    "    ax.text(p.get_x()+ p.get_width() / 2., height + 1, height, ha = 'center', size = 25)\n",
    "sns.despine()"
   ]
  },
  {
   "cell_type": "code",
   "execution_count": 12,
   "id": "87a12a55",
   "metadata": {},
   "outputs": [
    {
     "data": {
      "text/html": [
       "<div>\n",
       "<style scoped>\n",
       "    .dataframe tbody tr th:only-of-type {\n",
       "        vertical-align: middle;\n",
       "    }\n",
       "\n",
       "    .dataframe tbody tr th {\n",
       "        vertical-align: top;\n",
       "    }\n",
       "\n",
       "    .dataframe thead th {\n",
       "        text-align: right;\n",
       "    }\n",
       "</style>\n",
       "<table border=\"1\" class=\"dataframe\">\n",
       "  <thead>\n",
       "    <tr style=\"text-align: right;\">\n",
       "      <th></th>\n",
       "      <th>count</th>\n",
       "      <th>mean</th>\n",
       "      <th>std</th>\n",
       "      <th>min</th>\n",
       "      <th>25%</th>\n",
       "      <th>50%</th>\n",
       "      <th>75%</th>\n",
       "      <th>max</th>\n",
       "    </tr>\n",
       "  </thead>\n",
       "  <tbody>\n",
       "    <tr>\n",
       "      <th>BHK</th>\n",
       "      <td>411.0</td>\n",
       "      <td>1.219255e+03</td>\n",
       "      <td>2.466750e+04</td>\n",
       "      <td>0.0</td>\n",
       "      <td>2.0</td>\n",
       "      <td>2.0</td>\n",
       "      <td>3.0</td>\n",
       "      <td>5.000900e+05</td>\n",
       "    </tr>\n",
       "    <tr>\n",
       "      <th>Baths</th>\n",
       "      <td>411.0</td>\n",
       "      <td>2.491484e+00</td>\n",
       "      <td>2.519543e+00</td>\n",
       "      <td>0.0</td>\n",
       "      <td>1.5</td>\n",
       "      <td>2.0</td>\n",
       "      <td>3.0</td>\n",
       "      <td>2.500000e+01</td>\n",
       "    </tr>\n",
       "    <tr>\n",
       "      <th>Total_Area_SqFt</th>\n",
       "      <td>411.0</td>\n",
       "      <td>5.043248e+03</td>\n",
       "      <td>2.772122e+04</td>\n",
       "      <td>100.0</td>\n",
       "      <td>1200.0</td>\n",
       "      <td>1649.0</td>\n",
       "      <td>2587.0</td>\n",
       "      <td>4.356000e+05</td>\n",
       "    </tr>\n",
       "    <tr>\n",
       "      <th>Price_per_SqFt</th>\n",
       "      <td>411.0</td>\n",
       "      <td>1.001976e+04</td>\n",
       "      <td>1.763036e+04</td>\n",
       "      <td>321.0</td>\n",
       "      <td>4654.5</td>\n",
       "      <td>6216.0</td>\n",
       "      <td>9212.5</td>\n",
       "      <td>1.601290e+05</td>\n",
       "    </tr>\n",
       "    <tr>\n",
       "      <th>Price</th>\n",
       "      <td>411.0</td>\n",
       "      <td>1.871950e+07</td>\n",
       "      <td>5.100165e+07</td>\n",
       "      <td>1000000.0</td>\n",
       "      <td>6500000.0</td>\n",
       "      <td>10400000.0</td>\n",
       "      <td>19350000.0</td>\n",
       "      <td>1.000000e+09</td>\n",
       "    </tr>\n",
       "  </tbody>\n",
       "</table>\n",
       "</div>"
      ],
      "text/plain": [
       "                 count          mean           std        min        25%  \\\n",
       "BHK              411.0  1.219255e+03  2.466750e+04        0.0        2.0   \n",
       "Baths            411.0  2.491484e+00  2.519543e+00        0.0        1.5   \n",
       "Total_Area_SqFt  411.0  5.043248e+03  2.772122e+04      100.0     1200.0   \n",
       "Price_per_SqFt   411.0  1.001976e+04  1.763036e+04      321.0     4654.5   \n",
       "Price            411.0  1.871950e+07  5.100165e+07  1000000.0  6500000.0   \n",
       "\n",
       "                        50%         75%           max  \n",
       "BHK                     2.0         3.0  5.000900e+05  \n",
       "Baths                   2.0         3.0  2.500000e+01  \n",
       "Total_Area_SqFt      1649.0      2587.0  4.356000e+05  \n",
       "Price_per_SqFt       6216.0      9212.5  1.601290e+05  \n",
       "Price            10400000.0  19350000.0  1.000000e+09  "
      ]
     },
     "execution_count": 12,
     "metadata": {},
     "output_type": "execute_result"
    }
   ],
   "source": [
    "df.describe().T"
   ]
  },
  {
   "cell_type": "code",
   "execution_count": 13,
   "id": "dd86bc59",
   "metadata": {},
   "outputs": [
    {
     "data": {
      "text/plain": [
       "BHK                0\n",
       "Baths              0\n",
       "Total_Area_SqFt    0\n",
       "Price_per_SqFt     0\n",
       "Type_of_Land       0\n",
       "Area               0\n",
       "Price              0\n",
       "Location           0\n",
       "dtype: int64"
      ]
     },
     "execution_count": 13,
     "metadata": {},
     "output_type": "execute_result"
    }
   ],
   "source": [
    "#since the dataset contain null values also \n",
    "#count total rows in each column which contain null values\n",
    "df.isna().sum()"
   ]
  },
  {
   "cell_type": "code",
   "execution_count": 14,
   "id": "b40ab7cc",
   "metadata": {},
   "outputs": [
    {
     "data": {
      "text/plain": [
       "Apartment                  197\n",
       "Bedroom House              110\n",
       "Residential land / Plot    101\n",
       "Bedroom Farm house           3\n",
       "Name: Type_of_Land, dtype: int64"
      ]
     },
     "execution_count": 14,
     "metadata": {},
     "output_type": "execute_result"
    }
   ],
   "source": [
    "df['Type_of_Land'].value_counts()"
   ]
  },
  {
   "cell_type": "code",
   "execution_count": 15,
   "id": "402a73f0",
   "metadata": {},
   "outputs": [
    {
     "data": {
      "image/png": "[encoded data removed]",
      "text/plain": [
       "<Figure size 1850x500 with 1 Axes>"
      ]
     },
     "metadata": {},
     "output_type": "display_data"
    }
   ],
   "source": [
    "ax = sns.countplot(x='Type_of_Land', data=df)\n",
    "ax.figure.set_size_inches(18.5, 5)"
   ]
  },
  {
   "cell_type": "code",
   "execution_count": 16,
   "id": "5e436edb",
   "metadata": {},
   "outputs": [
    {
     "data": {
      "text/plain": [
       "<AxesSubplot:ylabel='Type_of_Land'>"
      ]
     },
     "execution_count": 16,
     "metadata": {},
     "output_type": "execute_result"
    },
    {
     "data": {
      "image/png": "[encoded data removed]",
      "text/plain": [
       "<Figure size 640x480 with 1 Axes>"
      ]
     },
     "metadata": {},
     "output_type": "display_data"
    }
   ],
   "source": [
    "df.Type_of_Land.value_counts().plot(kind=\"pie\",autopct='%1.2f%%')"
   ]
  },
  {
   "cell_type": "code",
   "execution_count": 17,
   "id": "46dc8fee",
   "metadata": {},
   "outputs": [
    {
     "name": "stdout",
     "output_type": "stream",
     "text": [
      "The cheapest house sold for ₹1,000,000 and the most expensive for ₹1,000,000,000\n",
      "The average sales price is ₹1,000,000, while median is ₹1,000,000,000\n"
     ]
    }
   ],
   "source": [
    "# How expensive are houses?\n",
    "print('The cheapest house sold for ₹{:,.0f} and the most expensive for ₹{:,.0f}'.format(\n",
    "    df['Price'].min(), df['Price'].max()))\n",
    "print('The average sales price is ₹{:,.0f}, while median is ₹{:,.0f}'.format(\n",
    "    df['Price'].min(), df['Price'].max()))"
   ]
  },
  {
   "cell_type": "code",
   "execution_count": 18,
   "id": "4625df83",
   "metadata": {},
   "outputs": [
    {
     "name": "stdout",
     "output_type": "stream",
     "text": [
      "The average house has 5,043 sq ft of space, the median 1,649 sq ft\n",
      "The biggest house has 435,600 sq ft of space, the smallest 100 sq ft\n"
     ]
    }
   ],
   "source": [
    "# How big are houses\n",
    "print('The average house has {:,.0f} sq ft of space, the median {:,.0f} sq ft'.format(\n",
    "    df['Total_Area_SqFt'].mean(), df['Total_Area_SqFt'].median()))\n",
    "print('The biggest house has {:,.0f} sq ft of space, the smallest {:,.0f} sq ft'.format(\n",
    "    df['Total_Area_SqFt'].max(), df['Total_Area_SqFt'].min()))"
   ]
  },
  {
   "cell_type": "code",
   "execution_count": 19,
   "id": "2860a423",
   "metadata": {},
   "outputs": [
    {
     "data": {
      "image/png": "[encoded data removed]",
      "text/plain": [
       "<Figure size 1500x1000 with 6 Axes>"
      ]
     },
     "metadata": {},
     "output_type": "display_data"
    }
   ],
   "source": [
    "fig, ax = plt.subplots(3, 2, figsize = (15,10))\n",
    "\n",
    "sns.boxplot(df.BHK, ax = ax[0, 0])\n",
    "sns.boxplot(df.Baths, ax = ax[0, 1])\n",
    "sns.boxplot(df.Total_Area_SqFt, ax = ax[1, 0])\n",
    "sns.boxplot(df.Price_per_SqFt, ax = ax[2, 0])\n",
    "sns.boxplot(df.Price, ax = ax[2, 1])\n",
    "\n",
    "plt.tight_layout()\n",
    "plt.show()"
   ]
  },
  {
   "cell_type": "code",
   "execution_count": 20,
   "id": "9181a15d",
   "metadata": {},
   "outputs": [
    {
     "name": "stdout",
     "output_type": "stream",
     "text": [
      "Outliers: \n",
      "\n",
      "BHK :  (array([  1,   3,   4,   5,   6,   8,  11,  14,  15,  21,  25,  28,  31,\n",
      "        35,  39,  49,  53,  59,  61,  73,  75,  84,  92,  94,  95, 100,\n",
      "       106, 116, 119, 121, 122, 123, 125, 126, 129, 130, 147, 150, 152,\n",
      "       153, 154, 156, 158, 160, 164, 168, 172, 176, 179, 180, 187, 192,\n",
      "       193, 199, 200, 202, 208, 211, 215, 216, 219, 221, 230, 231, 232,\n",
      "       234, 236, 243, 246, 247, 254, 262, 264, 269, 270, 271, 273, 274,\n",
      "       276, 278, 285, 286, 288, 293, 298, 300, 304, 306, 307, 310, 311,\n",
      "       312, 313, 314, 317, 319, 321, 322, 327, 329, 333, 334, 335, 337,\n",
      "       340, 342, 343, 348, 349, 350, 351, 362, 363, 372, 374, 378, 379,\n",
      "       380, 381, 384, 385, 386, 394, 395, 396, 398, 401, 403, 407, 408,\n",
      "       409, 410], dtype=int64),)\n",
      "Baths :  (array([ 14,  25,  28,  31,  84,  95, 147, 187, 215, 219, 231, 234, 246,\n",
      "       269, 312, 350, 384, 385, 398], dtype=int64),)\n",
      "Total_Area_SqFt :  (array([  3,   4,  26,  28,  37,  39,  51,  52,  69,  83,  84,  92,  93,\n",
      "       119, 153, 168, 192, 193, 215, 230, 234, 285, 327, 336, 337, 374,\n",
      "       378, 379, 381, 401], dtype=int64),)\n",
      "Price_per_SqFt :  (array([  1,  13,  14,  25,  36,  38,  41,  57,  61,  70,  75,  99, 144,\n",
      "       147, 154, 160, 176, 180, 184, 185, 187, 252, 262, 281, 282, 320,\n",
      "       334, 335, 345, 361, 363, 369, 398], dtype=int64),)\n",
      "Price :  (array([  2,   4,  14,  26,  32,  36,  37,  39,  41,  43,  70,  75,  84,\n",
      "        95,  99, 110, 144, 147, 153, 154, 168, 185, 187, 193, 202, 230,\n",
      "       235, 252, 262, 281, 282, 327, 337, 340, 351, 360, 361, 362, 378,\n",
      "       381, 385, 401, 410], dtype=int64),)\n"
     ]
    }
   ],
   "source": [
    "def outliers_iqr(ys):\n",
    "    quartile_1, quartile_3 = np.percentile(ys, [25, 75])\n",
    "    iqr = quartile_3 - quartile_1\n",
    "    lower_bound = quartile_1 - (iqr * 1.5)\n",
    "    upper_bound = quartile_3 + (iqr * 1.5)\n",
    "    return np.where((ys > upper_bound) | (ys < lower_bound))\n",
    "\n",
    "list_atributes = ['BHK', 'Baths', 'Total_Area_SqFt', 'Price_per_SqFt', 'Price']\n",
    "print(\"Outliers: \\n\")\n",
    "for item in list_atributes:\n",
    "    print(item,': ',outliers_iqr(df[item]))"
   ]
  },
  {
   "cell_type": "code",
   "execution_count": 21,
   "id": "0860ac03",
   "metadata": {},
   "outputs": [
    {
     "data": {
      "image/png": "[encoded data removed]",
      "text/plain": [
       "<Figure size 1500x1000 with 6 Axes>"
      ]
     },
     "metadata": {},
     "output_type": "display_data"
    }
   ],
   "source": [
    "fig, ax = plt.subplots(3, 2, figsize = (15,10))\n",
    "\n",
    "sns.distplot(df.BHK, ax = ax[0, 0])\n",
    "sns.distplot(df.Baths, ax = ax[0, 1])\n",
    "sns.distplot(df.Total_Area_SqFt, ax = ax[1, 0])\n",
    "sns.distplot(df.Price_per_SqFt, ax = ax[2, 0])\n",
    "sns.distplot(df.Price, ax = ax[2, 1])\n",
    "\n",
    "plt.tight_layout()\n",
    "plt.show()"
   ]
  },
  {
   "cell_type": "code",
   "execution_count": 22,
   "id": "3be067b1",
   "metadata": {},
   "outputs": [
    {
     "data": {
      "text/html": [
       "<div>\n",
       "<style scoped>\n",
       "    .dataframe tbody tr th:only-of-type {\n",
       "        vertical-align: middle;\n",
       "    }\n",
       "\n",
       "    .dataframe tbody tr th {\n",
       "        vertical-align: top;\n",
       "    }\n",
       "\n",
       "    .dataframe thead th {\n",
       "        text-align: right;\n",
       "    }\n",
       "</style>\n",
       "<table border=\"1\" class=\"dataframe\">\n",
       "  <thead>\n",
       "    <tr style=\"text-align: right;\">\n",
       "      <th></th>\n",
       "      <th>BHK</th>\n",
       "      <th>Baths</th>\n",
       "      <th>Total_Area_SqFt</th>\n",
       "      <th>Price_per_SqFt</th>\n",
       "      <th>Price</th>\n",
       "    </tr>\n",
       "  </thead>\n",
       "  <tbody>\n",
       "    <tr>\n",
       "      <th>skewness</th>\n",
       "      <td>20.273135</td>\n",
       "      <td>4.041773</td>\n",
       "      <td>11.833027</td>\n",
       "      <td>6.251952</td>\n",
       "      <td>17.505715</td>\n",
       "    </tr>\n",
       "    <tr>\n",
       "      <th>kurtosis</th>\n",
       "      <td>410.999991</td>\n",
       "      <td>28.841066</td>\n",
       "      <td>159.973765</td>\n",
       "      <td>42.537212</td>\n",
       "      <td>336.201554</td>\n",
       "    </tr>\n",
       "  </tbody>\n",
       "</table>\n",
       "</div>"
      ],
      "text/plain": [
       "                 BHK      Baths  Total_Area_SqFt  Price_per_SqFt       Price\n",
       "skewness   20.273135   4.041773        11.833027        6.251952   17.505715\n",
       "kurtosis  410.999991  28.841066       159.973765       42.537212  336.201554"
      ]
     },
     "execution_count": 22,
     "metadata": {},
     "output_type": "execute_result"
    }
   ],
   "source": [
    "col = df.select_dtypes(exclude = 'object').columns.tolist()\n",
    "\n",
    "data = df[col]\n",
    "pd.DataFrame(data = [data.skew(), data.kurtosis()],index = ['skewness', 'kurtosis'])"
   ]
  },
  {
   "cell_type": "code",
   "execution_count": null,
   "id": "949b8735",
   "metadata": {},
   "outputs": [],
   "source": [
    "#Format the plot background and scatter plots for all the variables\n",
    "columns = ['BHK', 'Baths', 'Total_Area_SqFt', 'Price_per_SqFt','Price']\n",
    "sns.pairplot(df[columns])"
   ]
  },
  {
   "cell_type": "code",
   "execution_count": null,
   "id": "ee07aff5",
   "metadata": {},
   "outputs": [],
   "source": [
    "def plot_correlation(df, columns):\n",
    "    corr = df[columns].corr()\n",
    "    sns.heatmap(corr, annot=True)"
   ]
  },
  {
   "cell_type": "code",
   "execution_count": null,
   "id": "62045f7f",
   "metadata": {},
   "outputs": [],
   "source": [
    "columns = ['BHK', 'Baths', 'Total_Area_SqFt', 'Price_per_SqFt','Price']\n",
    "plot_correlation(df, columns)"
   ]
  },
  {
   "cell_type": "code",
   "execution_count": null,
   "id": "4fb8f007",
   "metadata": {},
   "outputs": [],
   "source": [
    "# Feature sorted by correlation from positive to negative"
   ]
  },
  {
   "cell_type": "code",
   "execution_count": null,
   "id": "90c3bc05",
   "metadata": {},
   "outputs": [],
   "source": [
    "corr = df.corr()\n",
    "corr = corr.sort_values('BHK', ascending=False)\n",
    "plt.figure(figsize=(5,5))\n",
    "sns.barplot( corr.BHK[1:], corr.index[1:], orient='h')\n",
    "plt.show()"
   ]
  },
  {
   "cell_type": "code",
   "execution_count": null,
   "id": "1c919db8",
   "metadata": {},
   "outputs": [],
   "source": [
    "corr = df.corr()\n",
    "corr = corr.sort_values('Baths', ascending=False)\n",
    "plt.figure(figsize=(5,5))\n",
    "sns.barplot( corr.Baths[1:], corr.index[1:], orient='h')\n",
    "plt.show()"
   ]
  },
  {
   "cell_type": "code",
   "execution_count": null,
   "id": "888999e0",
   "metadata": {},
   "outputs": [],
   "source": [
    "corr = df.corr()\n",
    "corr = corr.sort_values('Total_Area_SqFt', ascending=False)\n",
    "plt.figure(figsize=(5,5))\n",
    "sns.barplot( corr.Total_Area_SqFt[1:], corr.index[1:], orient='h')\n",
    "plt.show()"
   ]
  },
  {
   "cell_type": "code",
   "execution_count": null,
   "id": "2ec47c83",
   "metadata": {},
   "outputs": [],
   "source": [
    "corr = df.corr()\n",
    "corr = corr.sort_values('Price_per_SqFt', ascending=False)\n",
    "plt.figure(figsize=(5,5))\n",
    "sns.barplot( corr.Price_per_SqFt[1:], corr.index[1:], orient='h')\n",
    "plt.show()"
   ]
  },
  {
   "cell_type": "code",
   "execution_count": null,
   "id": "4a2aa15e",
   "metadata": {},
   "outputs": [],
   "source": [
    "corr = df.corr()\n",
    "corr = corr.sort_values('Price', ascending=False)\n",
    "plt.figure(figsize=(5,5))\n",
    "sns.barplot( corr.Price[1:], corr.index[1:], orient='h')\n",
    "plt.show()"
   ]
  },
  {
   "cell_type": "code",
   "execution_count": null,
   "id": "1323e226",
   "metadata": {},
   "outputs": [],
   "source": [
    "plt.figure(figsize=(12, 10), dpi=80)\n",
    "plt.scatter(df['Price'], df['Type_of_Land'])"
   ]
  },
  {
   "cell_type": "code",
   "execution_count": null,
   "id": "db0a1596",
   "metadata": {},
   "outputs": [],
   "source": [
    "plt.figure(figsize=(10, 18), dpi=80)\n",
    "plt.xticks(rotation=270)\n",
    "plt.scatter(df['Price'], df['Location'])"
   ]
  },
  {
   "cell_type": "code",
   "execution_count": null,
   "id": "6c9987db",
   "metadata": {},
   "outputs": [],
   "source": [
    "plt.figure(figsize=(10, 10), dpi=80)\n",
    "plt.bar(df['BHK'], df['Price'])"
   ]
  },
  {
   "cell_type": "code",
   "execution_count": null,
   "id": "b198728c",
   "metadata": {},
   "outputs": [],
   "source": [
    "plt.figure(figsize=(10, 10), dpi=80)\n",
    "sns.scatterplot(x=df['BHK'], y=df['Price'], data=df,hue='Type_of_Land')"
   ]
  },
  {
   "cell_type": "code",
   "execution_count": null,
   "id": "97d6c8b4",
   "metadata": {},
   "outputs": [],
   "source": [
    "plt.figure(figsize=(15, 18), dpi=80)\n",
    "plt.xticks(rotation=270)\n",
    "sns.scatterplot(x=df['Price'], y=df['Location'], data=df,hue='Type_of_Land')"
   ]
  },
  {
   "cell_type": "code",
   "execution_count": null,
   "id": "c55fc765",
   "metadata": {},
   "outputs": [],
   "source": [
    "plt.figure(figsize=(15, 12), dpi=80)\n",
    "plt.xticks(rotation=270)\n",
    "sns.scatterplot(x=df['Price'], y=df['Price_per_SqFt'], data=df,hue='Type_of_Land')"
   ]
  },
  {
   "cell_type": "code",
   "execution_count": null,
   "id": "f2a31414",
   "metadata": {},
   "outputs": [],
   "source": [
    "plt.figure(figsize=(10, 18), dpi=80)\n",
    "plt.xticks(rotation=270)\n",
    "sns.barplot(x=df['Price'], y=df['Location'], data=df,hue='Type_of_Land')\n",
    " \n",
    "plt.show()"
   ]
  },
  {
   "cell_type": "code",
   "execution_count": null,
   "id": "79397a29",
   "metadata": {},
   "outputs": [],
   "source": [
    "plt.figure(figsize=(14, 10), dpi=80)\n",
    "plt.xticks(rotation=270)\n",
    "#sns.barplot(x=df['Price'], y=df['Location'], data=df,hue='Type_of_Land')\n",
    " \n",
    "\n",
    "sns.histplot(x='Price', data=df, kde=True, hue='Type_of_Land')\n",
    "plt.show()"
   ]
  },
  {
   "cell_type": "code",
   "execution_count": null,
   "id": "d50277c3",
   "metadata": {},
   "outputs": [],
   "source": [
    "import plotly.express as px\n",
    " \n",
    "# plotting the scatter chart\n",
    "fig = px.scatter(df, x=\"BHK\", y=\"Price\",color='Type_of_Land')\n",
    " \n",
    "# showing the plot\n",
    "fig.show()"
   ]
  },
  {
   "cell_type": "code",
   "execution_count": null,
   "id": "7b0c494a",
   "metadata": {},
   "outputs": [],
   "source": [
    "# plotting the scatter chart\n",
    "fig = px.scatter(df, x=\"Total_Area_SqFt\", y=\"Price\",color='Type_of_Land')\n",
    " \n",
    "# showing the plot\n",
    "fig.show()"
   ]
  }
 ],
 "metadata": {
  "kernelspec": {
   "display_name": "Python 3 (ipykernel)",
   "language": "python",
   "name": "python3"
  },
  "language_info": {
   "codemirror_mode": {
    "name": "ipython",
    "version": 3
   },
   "file_extension": ".py",
   "mimetype": "text/x-python",
   "name": "python",
   "nbconvert_exporter": "python",
   "pygments_lexer": "ipython3",
   "version": "3.9.13"
  }
 },
 "nbformat": 4,
 "nbformat_minor": 5
}
